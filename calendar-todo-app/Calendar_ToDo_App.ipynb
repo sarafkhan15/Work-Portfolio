{
 "cells": [
  {
   "cell_type": "markdown",
   "id": "187088ee-86fc-4d6f-8cdc-773120b3f967",
   "metadata": {},
   "source": [
    "# Calendar & To-Do List Desktop App\n",
    "A simple Python Tkinter app that allows users to manage a to-do list. Built as part of my coding portfolio to showcase GUI app development in Python."
   ]
  },
  {
   "cell_type": "markdown",
   "id": "81021ac8-0722-4c12-acc9-4137d566fd7b",
   "metadata": {},
   "source": [
    "## Features\n",
    "- Add new tasks\n",
    "- Delete selected tasks\n",
    "- Clear all tasks\n",
    "- Simple, user-friendly desktop GUI built in Python"
   ]
  },
  {
   "cell_type": "markdown",
   "id": "b93047e0-2528-4f48-84fc-5bec883d913e",
   "metadata": {},
   "source": [
    "## How to Run\n",
    "- Requires Python 3.x\n",
    "- Can be run in Jupyter Notebook or as a .py script\n",
    "- Uses Tkinter (built-in Python library)\n",
    "\n",
    "**To run in Jupyter:**\n",
    "```python\n",
    "# Paste the code in a cell and run it\n"
   ]
  },
  {
   "cell_type": "code",
   "execution_count": null,
   "id": "4d53a7fe-877a-4f5c-b86e-f91baff19664",
   "metadata": {},
   "outputs": [],
   "source": [
    "import tkinter as tk\n",
    "from tkinter import messagebox\n",
    "\n",
    "tasks = []\n",
    "\n",
    "def update_listbox():\n",
    "    listbox.delete(0, tk.END)\n",
    "    for task in tasks:\n",
    "        listbox.insert(tk.END, task)\n",
    "\n",
    "def add_task():\n",
    "    task = entry.get()\n",
    "    if task != \"\":\n",
    "        tasks.append(task)\n",
    "        update_listbox()\n",
    "        entry.delete(0, \"end\")\n",
    "    else:\n",
    "        messagebox.showwarning(\"Warning\", \"You must enter a task.\")\n",
    "\n",
    "def delete_task():\n",
    "    try:\n",
    "        task_index = listbox.curselection()[0]\n",
    "        del tasks[task_index]\n",
    "        update_listbox()\n",
    "    except:\n",
    "        messagebox.showwarning(\"Warning\", \"Please select a task to delete.\")\n",
    "\n",
    "def clear_tasks():\n",
    "    global tasks\n",
    "    tasks = []\n",
    "    update_listbox()\n",
    "\n",
    "root = tk.Tk()\n",
    "root.title(\"To-Do List App\")\n",
    "\n",
    "frame = tk.Frame(root)\n",
    "frame.pack()\n",
    "\n",
    "listbox = tk.Listbox(frame, height=10, width=50)\n",
    "listbox.pack(side=tk.LEFT)\n",
    "\n",
    "scrollbar = tk.Scrollbar(frame)\n",
    "scrollbar.pack(side=tk.RIGHT, fill=tk.Y)\n",
    "\n",
    "listbox.config(yscrollcommand=scrollbar.set)\n",
    "scrollbar.config(command=listbox.yview)\n",
    "\n",
    "entry = tk.Entry(root, width=50)\n",
    "entry.pack()\n",
    "\n",
    "add_button = tk.Button(root, text=\"Add Task\", width=48, command=add_task)\n",
    "add_button.pack()\n",
    "\n",
    "delete_button = tk.Button(root, text=\"Delete Task\", width=48, command=delete_task)\n",
    "delete_button.pack()\n",
    "\n",
    "clear_button = tk.Button(root, text=\"Clear All Tasks\", width=48, command=clear_tasks)\n",
    "clear_button.pack()\n",
    "\n",
    "root.mainloop()\n"
   ]
  },
  {
   "cell_type": "code",
   "execution_count": null,
   "id": "fb2f6515-3d90-49d7-989a-f27104a0c79e",
   "metadata": {},
   "outputs": [],
   "source": []
  }
 ],
 "metadata": {
  "kernelspec": {
   "display_name": "Python 3 (ipykernel)",
   "language": "python",
   "name": "python3"
  },
  "language_info": {
   "codemirror_mode": {
    "name": "ipython",
    "version": 3
   },
   "file_extension": ".py",
   "mimetype": "text/x-python",
   "name": "python",
   "nbconvert_exporter": "python",
   "pygments_lexer": "ipython3",
   "version": "3.13.5"
  }
 },
 "nbformat": 4,
 "nbformat_minor": 5
}
